{
 "cells": [
  {
   "cell_type": "markdown",
   "metadata": {},
   "source": [
    "## Dependencies & Constantes"
   ]
  },
  {
   "cell_type": "code",
   "execution_count": 1,
   "metadata": {},
   "outputs": [],
   "source": [
    "import os\n",
    "\n",
    "import google_auth_oauthlib.flow\n",
    "import googleapiclient.discovery\n",
    "import googleapiclient.errors\n",
    "\n",
    "import pandas as pd\n",
    "\n",
    "import pickle"
   ]
  },
  {
   "cell_type": "code",
   "execution_count": 2,
   "metadata": {},
   "outputs": [],
   "source": [
    "API_SERVICE = \"youtube\"\n",
    "API_VERSION = \"v3\"\n",
    "SCOPES = [\"https://www.googleapis.com/auth/youtube.readonly\"]"
   ]
  },
  {
   "cell_type": "markdown",
   "metadata": {},
   "source": [
    "## Authentication"
   ]
  },
  {
   "cell_type": "code",
   "execution_count": 3,
   "metadata": {},
   "outputs": [],
   "source": [
    "def authenticate():\n",
    "  \n",
    "  os.environ[\"OAUTHLIB_INSECURE_TRANSPORT\"] = \"1\"\n",
    "  \n",
    "  client_secrets_file = \"client_secret.json\"\n",
    "\n",
    "  flow = google_auth_oauthlib.flow.InstalledAppFlow.from_client_secrets_file(\n",
    "      client_secrets_file, SCOPES)\n",
    "  \n",
    "  credentials = None\n",
    "  \n",
    "  token_file = \"tocken.pickle\"\n",
    "\n",
    "  if os.path.exists(token_file):\n",
    "    with open(token_file, 'rb') as token:\n",
    "      credentials = pickle.load(token)\n",
    "\n",
    "  if not credentials or not credentials.valid:\n",
    "    credentials = flow.run_local_server()\n",
    "    \n",
    "    with open(token_file, \"wb\") as token:\n",
    "      pickle.dump(credentials, token)\n",
    "    \n",
    "  return credentials \n",
    "\n",
    "CREDENTIALS = authenticate()"
   ]
  },
  {
   "cell_type": "markdown",
   "metadata": {},
   "source": [
    "## Initialisation du client"
   ]
  },
  {
   "cell_type": "code",
   "execution_count": 4,
   "metadata": {},
   "outputs": [],
   "source": [
    "CLIENT = googleapiclient.discovery.build(\n",
    "      API_SERVICE, \n",
    "      API_VERSION, \n",
    "      credentials=CREDENTIALS\n",
    "    )"
   ]
  },
  {
   "cell_type": "markdown",
   "metadata": {},
   "source": []
  },
  {
   "cell_type": "markdown",
   "metadata": {},
   "source": [
    "## Noms de playlists & IDs"
   ]
  },
  {
   "cell_type": "code",
   "execution_count": 5,
   "metadata": {},
   "outputs": [],
   "source": [
    "def get_playlist_ids():\n",
    "  \n",
    "  request = CLIENT.playlists().list(\n",
    "      part=\"id, snippet\",\n",
    "      mine=True\n",
    "  )\n",
    "  response = request.execute()\n",
    "  \n",
    "  playlists = response.get(\"items\")\n",
    "  playlist_ids = [playlist[\"id\"] for playlist in playlists]\n",
    "  playlist_names = [playlist[\"snippet\"][\"title\"] for playlist in playlists]\n",
    "  \n",
    "  return playlist_names, playlist_ids"
   ]
  },
  {
   "cell_type": "markdown",
   "metadata": {},
   "source": []
  },
  {
   "cell_type": "markdown",
   "metadata": {},
   "source": [
    "## Titres des vidéos"
   ]
  },
  {
   "cell_type": "code",
   "execution_count": 6,
   "metadata": {},
   "outputs": [],
   "source": [
    "def get_videos(playlist_id): \n",
    "  request = CLIENT.playlistItems().list(\n",
    "    part=\"snippet\",\n",
    "    playlistId=playlist_id\n",
    "  )\n",
    "  response = request.execute()\n",
    "  \n",
    "  videos = response.get(\"items\", [])\n",
    "  \n",
    "  return videos"
   ]
  },
  {
   "cell_type": "markdown",
   "metadata": {},
   "source": [
    "## Arborescence"
   ]
  },
  {
   "cell_type": "code",
   "execution_count": 7,
   "metadata": {},
   "outputs": [],
   "source": [
    "def set_tree(playlist_names, playlist_ids):\n",
    "  playlist_dict = {}\n",
    "  for i in range(len(playlist_names)):\n",
    "    videos = get_videos(playlist_ids[i])\n",
    "    \n",
    "    video_titles = [video[\"snippet\"][\"title\"] for video in videos]\n",
    "    playlist_dict[playlist_ids[i]] = {\n",
    "      \"name\": playlist_names[i],\n",
    "      \"videos\": video_titles,\n",
    "    }\n",
    "  return playlist_dict"
   ]
  },
  {
   "cell_type": "code",
   "execution_count": 9,
   "metadata": {},
   "outputs": [
    {
     "name": "stdout",
     "output_type": "stream",
     "text": [
      "                       PLs-GpQgNJjGNDR-d6D31a4kzqWz_JutVb   \n",
      "name                                             Hot Ones  \\\n",
      "videos  [HOT ONES : Mister V sera-t-il meilleur qu'au ...   \n",
      "\n",
      "                       PLs-GpQgNJjGPIzZfX1hzEgKyN_DzSzmE4  \n",
      "name                                                    a  \n",
      "videos  [Full Stack Spotify Clone: Next 13.4, React, S...  \n"
     ]
    }
   ],
   "source": [
    "def main():\n",
    "  playlist_names, playlist_ids = get_playlist_ids()\n",
    "  \n",
    "  playlist_dict = set_tree(playlist_names, playlist_ids)\n",
    "  \n",
    "  df = pd.DataFrame.from_dict(playlist_dict, orient=\"columns\")\n",
    "  \n",
    "if __name__ == \"__main__\":\n",
    "    main()"
   ]
  },
  {
   "cell_type": "code",
   "execution_count": null,
   "metadata": {},
   "outputs": [],
   "source": []
  }
 ],
 "metadata": {
  "kernelspec": {
   "display_name": "Python 3",
   "language": "python",
   "name": "python3"
  },
  "language_info": {
   "codemirror_mode": {
    "name": "ipython",
    "version": 3
   },
   "file_extension": ".py",
   "mimetype": "text/x-python",
   "name": "python",
   "nbconvert_exporter": "python",
   "pygments_lexer": "ipython3",
   "version": "3.11.3"
  }
 },
 "nbformat": 4,
 "nbformat_minor": 2
}
